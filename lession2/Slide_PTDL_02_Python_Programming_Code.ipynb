{
  "cells": [
    {
      "cell_type": "markdown",
      "metadata": {
        "id": "V1D1AQY3d5ur"
      },
      "source": [
        "## 1. Giới thiệu và Cú pháp cơ bản"
      ]
    },
    {
      "cell_type": "markdown",
      "metadata": {
        "id": "CLqXYHwgd5us"
      },
      "source": [
        "### Hello World (Trang 25, 28)"
      ]
    },
    {
      "cell_type": "code",
      "execution_count": 1,
      "metadata": {
        "colab": {
          "base_uri": "https://localhost:8080/"
        },
        "id": "mgEJhlymd5us",
        "outputId": "b8df0fd8-de7c-4dea-d2b6-9905a1a232ee"
      },
      "outputs": [
        {
          "name": "stdout",
          "output_type": "stream",
          "text": [
            "Hello World\n"
          ]
        }
      ],
      "source": [
        "print(\"Hello World\")"
      ]
    },
    {
      "cell_type": "markdown",
      "metadata": {
        "id": "Pz23a_aSd5ut"
      },
      "source": [
        "### Cú pháp (Trang 29-32)"
      ]
    },
    {
      "cell_type": "code",
      "execution_count": 2,
      "metadata": {
        "id": "d3BlV_dnd5ut"
      },
      "outputs": [],
      "source": [
        "# Đây là một comment (ghi chú)\n",
        "# Comment được dùng để giải thích code"
      ]
    },
    {
      "cell_type": "code",
      "execution_count": 3,
      "metadata": {
        "colab": {
          "base_uri": "https://localhost:8080/"
        },
        "id": "J7N0a6Jbd5uu",
        "outputId": "aca350b5-09b6-4064-e8fa-dbb80daee629"
      },
      "outputs": [
        {
          "name": "stdout",
          "output_type": "stream",
          "text": [
            "Pass\n"
          ]
        }
      ],
      "source": [
        "# Thụt lề (Indentation) rất quan trọng trong Python\n",
        "# Nó dùng để xác định một khối lệnh. Quy ước là 4 dấu cách.\n",
        "score = 80\n",
        "if score >= 60:\n",
        "    print(\"Pass\") # Dòng này được thụt vào, thuộc khối lệnh của if"
      ]
    },
    {
      "cell_type": "code",
      "execution_count": 4,
      "metadata": {
        "id": "tArHMLkmd5uu"
      },
      "outputs": [],
      "source": [
        "# Khai báo biến (Variables)\n",
        "x = 2\n",
        "price = 2.5\n",
        "word = 'Hello' # Chuỗi có thể dùng dấu nháy đơn\n",
        "word = \"Hello\" # Hoặc nháy kép\n",
        "word = '''Hello''' # Hoặc 3 dấu nháy đơn"
      ]
    },
    {
      "cell_type": "code",
      "execution_count": 5,
      "metadata": {
        "colab": {
          "base_uri": "https://localhost:8080/"
        },
        "id": "55bq-SS8d5uu",
        "outputId": "e09347d0-6047-4f81-c790-5355e2ccbfbb"
      },
      "outputs": [
        {
          "name": "stdout",
          "output_type": "stream",
          "text": [
            "3\n"
          ]
        }
      ],
      "source": [
        "x = 2\n",
        "y = x + 1\n",
        "print(y)"
      ]
    },
    {
      "cell_type": "markdown",
      "metadata": {
        "id": "N7P4qX36d5uu"
      },
      "source": [
        "### Kiểm tra phiên bản Python (Trang 33)"
      ]
    },
    {
      "cell_type": "code",
      "execution_count": 6,
      "metadata": {
        "colab": {
          "base_uri": "https://localhost:8080/"
        },
        "id": "jBfbszasd5uu",
        "outputId": "8e2a8c63-0cd9-4805-9d5c-06055adf600f"
      },
      "outputs": [
        {
          "name": "stdout",
          "output_type": "stream",
          "text": [
            "Python Version: 3.12.11\n"
          ]
        }
      ],
      "source": [
        "from platform import python_version\n",
        "print(\"Python Version:\", python_version())"
      ]
    },
    {
      "cell_type": "markdown",
      "metadata": {
        "id": "bmPDg33Ld5uv"
      },
      "source": [
        "## 2. Kiểu dữ liệu và Toán tử"
      ]
    },
    {
      "cell_type": "markdown",
      "metadata": {
        "id": "Yk_aIZ-bd5uv"
      },
      "source": [
        "### Các kiểu dữ liệu (Trang 34-36)"
      ]
    },
    {
      "cell_type": "code",
      "execution_count": 7,
      "metadata": {
        "id": "M-d9fvL5d5uv"
      },
      "outputs": [],
      "source": [
        "x = \"Hello World\" #str\n",
        "x = 2 #int\n",
        "x = 2.5 #float\n",
        "x = 7j #complex\n",
        "x = [\"apple\", \"banana\", \"cherry\"] #list\n",
        "x = (\"apple\", \"banana\", \"cherry\") #tuple\n",
        "x = range(6) #range\n",
        "x = {\"name\" : \"Tom\", \"age\" : 20} #dict\n",
        "x = {\"apple\", \"banana\", \"cherry\"} #set\n",
        "x = frozenset({\"apple\", \"banana\", \"cherry\"}) #frozenset\n",
        "x = True #bool\n",
        "x = b\"Hello\" #bytes\n",
        "x = bytearray(5) #bytearray\n",
        "x = memoryview(bytes(5)) #memoryview\n",
        "x = None #NoneType"
      ]
    },
    {
      "cell_type": "markdown",
      "metadata": {
        "id": "piNjB90Od5uv"
      },
      "source": [
        "### Ép kiểu (Casting) (Trang 37)"
      ]
    },
    {
      "cell_type": "code",
      "execution_count": 8,
      "metadata": {
        "colab": {
          "base_uri": "https://localhost:8080/"
        },
        "id": "r0YVFRBVd5uv",
        "outputId": "4ce80b26-dc65-4991-b1fb-1358ec8e2d8f"
      },
      "outputs": [
        {
          "name": "stdout",
          "output_type": "stream",
          "text": [
            "3 <class 'str'>\n",
            "3 <class 'int'>\n",
            "3.0 <class 'float'>\n"
          ]
        }
      ],
      "source": [
        "x = str(3) # x sẽ là '3'\n",
        "y = int(3) # y sẽ là 3\n",
        "z = float(3) # z sẽ là 3.0\n",
        "print(x, type(x))\n",
        "print(y, type(y))\n",
        "print(z, type(z))"
      ]
    },
    {
      "cell_type": "markdown",
      "metadata": {
        "id": "wOWADj-ed5uv"
      },
      "source": [
        "### Kiểu số (Numbers) (Trang 38)"
      ]
    },
    {
      "cell_type": "code",
      "execution_count": 9,
      "metadata": {
        "colab": {
          "base_uri": "https://localhost:8080/"
        },
        "id": "UhFS0qccd5uv",
        "outputId": "18f10112-0ba0-453e-f407-25b0d10957f1"
      },
      "outputs": [
        {
          "name": "stdout",
          "output_type": "stream",
          "text": [
            "2 <class 'int'>\n",
            "3.4 <class 'float'>\n",
            "7j <class 'complex'>\n"
          ]
        }
      ],
      "source": [
        "x = 2 # int\n",
        "y = 3.4 # float\n",
        "z = 7j #complex\n",
        "print(x, type(x))\n",
        "print(y, type(y))\n",
        "print(z, type(z))"
      ]
    },
    {
      "cell_type": "markdown",
      "metadata": {
        "id": "wVLrjwH1d5uv"
      },
      "source": [
        "### Toán tử số học (Trang 40)"
      ]
    },
    {
      "cell_type": "code",
      "execution_count": 10,
      "metadata": {
        "colab": {
          "base_uri": "https://localhost:8080/"
        },
        "id": "jNC_8-GWd5uw",
        "outputId": "624e04e6-00cb-4e2e-ecb2-8d038535be7b"
      },
      "outputs": [
        {
          "name": "stdout",
          "output_type": "stream",
          "text": [
            "7 + 2 = 9\n",
            "7 - 2 = 5\n",
            "7 * 2 = 14\n",
            "7 / 2 = 3.5\n",
            "7 // 2 = 3\n",
            "7 % 2 = 1\n",
            "7 ** 2 = 49\n"
          ]
        }
      ],
      "source": [
        "print('7 + 2 =', 7 + 2)\n",
        "print('7 - 2 =', 7 - 2)\n",
        "print('7 * 2 =', 7 * 2)\n",
        "print('7 / 2 =', 7 / 2)\n",
        "print('7 // 2 =', 7 // 2) # Chia lấy phần nguyên\n",
        "print('7 % 2 =', 7 % 2)   # Chia lấy phần dư\n",
        "print('7 ** 2 =', 7 ** 2) # Lũy thừa"
      ]
    },
    {
      "cell_type": "markdown",
      "metadata": {
        "id": "oYDBo_dod5uw"
      },
      "source": [
        "### Kiểu Boolean và Toán tử so sánh (Trang 41)"
      ]
    },
    {
      "cell_type": "code",
      "execution_count": 11,
      "metadata": {
        "colab": {
          "base_uri": "https://localhost:8080/"
        },
        "id": "7QvoQsw_d5uw",
        "outputId": "eebfbea1-71c3-4da0-e21b-c7075212c792"
      },
      "outputs": [
        {
          "name": "stdout",
          "output_type": "stream",
          "text": [
            "True\n",
            "False\n",
            "False\n"
          ]
        }
      ],
      "source": [
        "print(3 > 2)\n",
        "print(3 == 2)\n",
        "print(3 < 2)"
      ]
    },
    {
      "cell_type": "markdown",
      "metadata": {
        "id": "2RK6dZyWd5uw"
      },
      "source": [
        "## 3. Ví dụ ứng dụng tính toán"
      ]
    },
    {
      "cell_type": "markdown",
      "metadata": {
        "id": "b28VRBGod5uw"
      },
      "source": [
        "### Tính chỉ số BMI (Trang 42)"
      ]
    },
    {
      "cell_type": "code",
      "execution_count": 12,
      "metadata": {
        "colab": {
          "base_uri": "https://localhost:8080/"
        },
        "id": "2tUT-Zucd5uw",
        "outputId": "9790f39c-7f90-4e70-dab9-9d81bb14e1d3"
      },
      "outputs": [
        {
          "name": "stdout",
          "output_type": "stream",
          "text": [
            "Your BMI is: 20.8\n"
          ]
        }
      ],
      "source": [
        "height_cm = 170\n",
        "weight_kg = 60\n",
        "height_m = height_cm/100\n",
        "BMI = (weight_kg/(height_m**2))\n",
        "print(\"Your BMI is: \" + str(round(BMI,1)))"
      ]
    },
    {
      "cell_type": "markdown",
      "metadata": {
        "id": "n1ACfB4ud5uw"
      },
      "source": [
        "### Tính giá trị tương lai (Future Value) (Trang 44-46)"
      ]
    },
    {
      "cell_type": "code",
      "execution_count": 13,
      "metadata": {
        "colab": {
          "base_uri": "https://localhost:8080/"
        },
        "id": "9Gg0WoKad5uw",
        "outputId": "2cf16dbf-c641-4478-adb0-4842c2cba506"
      },
      "outputs": [
        {
          "name": "stdout",
          "output_type": "stream",
          "text": [
            "fv =  194.87\n"
          ]
        }
      ],
      "source": [
        "# Cách 1\n",
        "fv = 100 * 1.1 ** 7\n",
        "print('fv = ', round(fv, 2))"
      ]
    },
    {
      "cell_type": "code",
      "execution_count": 14,
      "metadata": {
        "colab": {
          "base_uri": "https://localhost:8080/"
        },
        "id": "c6z5Ki6ld5uw",
        "outputId": "6fa7a494-3bf7-4ecb-a4e8-3bd0d5e1cbbd"
      },
      "outputs": [
        {
          "name": "stdout",
          "output_type": "stream",
          "text": [
            "194.87\n"
          ]
        }
      ],
      "source": [
        "# Cách 2\n",
        "pv = 100\n",
        "r = 0.1\n",
        "n = 7\n",
        "fv = pv * ((1 + (r)) ** n)\n",
        "print(round(fv, 2))"
      ]
    },
    {
      "cell_type": "code",
      "execution_count": 15,
      "metadata": {
        "colab": {
          "base_uri": "https://localhost:8080/"
        },
        "id": "THqdD4_Qd5uw",
        "outputId": "8259961b-474d-45e1-8652-2b4f25b1520d"
      },
      "outputs": [
        {
          "name": "stdout",
          "output_type": "stream",
          "text": [
            "194.87\n"
          ]
        }
      ],
      "source": [
        "# Cách 3\n",
        "amount = 100\n",
        "interest = 10 #10% = 0.01 * 10\n",
        "years = 7\n",
        "future_value = amount * ((1 + (0.01 * interest)) ** years)\n",
        "print(round(future_value, 2))"
      ]
    },
    {
      "cell_type": "markdown",
      "metadata": {
        "id": "QNlVMkmld5ux"
      },
      "source": [
        "## 4. Cấu trúc dữ liệu (Collections)"
      ]
    },
    {
      "cell_type": "markdown",
      "metadata": {
        "id": "pCPGVnZEd5ux"
      },
      "source": [
        "### Ví dụ (Trang 49)"
      ]
    },
    {
      "cell_type": "code",
      "execution_count": 16,
      "metadata": {
        "id": "AGhajuNad5ux"
      },
      "outputs": [],
      "source": [
        "x = [\"apple\", \"banana\", \"cherry\"] #list\n",
        "x = (\"apple\", \"banana\", \"cherry\") #tuple\n",
        "x = {\"name\" : \"Tom\", \"age\" : 20} #dict\n",
        "x = {\"apple\", \"banana\", \"cherry\"} #set"
      ]
    },
    {
      "cell_type": "markdown",
      "metadata": {
        "id": "cOgn-SRjd5ux"
      },
      "source": [
        "### List (Trang 52)"
      ]
    },
    {
      "cell_type": "code",
      "execution_count": 17,
      "metadata": {
        "colab": {
          "base_uri": "https://localhost:8080/"
        },
        "id": "51Zd3PIZd5ux",
        "outputId": "393f16e8-d8d2-4656-9a0b-8d19c4a3c8b8"
      },
      "outputs": [
        {
          "name": "stdout",
          "output_type": "stream",
          "text": [
            "4\n",
            "60\n",
            "70\n",
            "90\n"
          ]
        }
      ],
      "source": [
        "x = [60, 70, 80, 90]\n",
        "print(len(x))\n",
        "print(x[0])\n",
        "print(x[1])\n",
        "print(x[-1]) # Phần tử cuối cùng"
      ]
    },
    {
      "cell_type": "markdown",
      "metadata": {
        "id": "RBHpKZRfd5ux"
      },
      "source": [
        "### Tuple (Trang 55)"
      ]
    },
    {
      "cell_type": "code",
      "execution_count": 18,
      "metadata": {
        "colab": {
          "base_uri": "https://localhost:8080/"
        },
        "id": "9OT65wWgd5ux",
        "outputId": "b828eee3-0440-45ff-c9a7-fca5177d22a7"
      },
      "outputs": [
        {
          "name": "stdout",
          "output_type": "stream",
          "text": [
            "10\n",
            "20\n",
            "30\n",
            "50\n"
          ]
        }
      ],
      "source": [
        "x = (10, 20, 30, 40, 50)\n",
        "print(x[0])\n",
        "print(x[1])\n",
        "print(x[2])\n",
        "print(x[-1])"
      ]
    },
    {
      "cell_type": "markdown",
      "metadata": {
        "id": "JKn4PAIqd5ux"
      },
      "source": [
        "### Set (Trang 56)"
      ]
    },
    {
      "cell_type": "code",
      "execution_count": 19,
      "metadata": {
        "colab": {
          "base_uri": "https://localhost:8080/"
        },
        "id": "NCEQbhI6d5ux",
        "outputId": "346316d6-2f2e-41b2-cd03-30f2284c49cb"
      },
      "outputs": [
        {
          "name": "stdout",
          "output_type": "stream",
          "text": [
            "True\n",
            "False\n",
            "True\n",
            "3\n",
            "3\n",
            "2\n"
          ]
        }
      ],
      "source": [
        "animals = {'cat', 'dog'}\n",
        "print('cat' in animals) # Kiểm tra phần tử tồn tại\n",
        "print('fish' in animals)\n",
        "animals.add('fish') # Thêm phần tử\n",
        "print('fish' in animals)\n",
        "print(len(animals)) # Lấy kích thước\n",
        "animals.add('cat') # Thêm phần tử đã có sẽ không thay đổi set\n",
        "print(len(animals))\n",
        "animals.remove('cat') # Xóa phần tử\n",
        "print(len(animals))"
      ]
    },
    {
      "cell_type": "markdown",
      "metadata": {
        "id": "t7HMbM4Hd5ux"
      },
      "source": [
        "### Dictionary (Trang 57)"
      ]
    },
    {
      "cell_type": "code",
      "execution_count": 20,
      "metadata": {
        "colab": {
          "base_uri": "https://localhost:8080/"
        },
        "id": "JzE-Ze45d5ux",
        "outputId": "b2e94ecd-5a7d-4021-cc81-15b95420a7d9"
      },
      "outputs": [
        {
          "name": "stdout",
          "output_type": "stream",
          "text": [
            "English\n"
          ]
        }
      ],
      "source": [
        "k = { 'EN':'English', 'FR':'French' }\n",
        "print(k['EN'])"
      ]
    },
    {
      "cell_type": "markdown",
      "metadata": {
        "id": "WVAXgWL_d5u1"
      },
      "source": [
        "### Các kiểu mảng (Trang 58)"
      ]
    },
    {
      "cell_type": "code",
      "execution_count": 21,
      "metadata": {
        "id": "tbyQozXXd5u1"
      },
      "outputs": [],
      "source": [
        "fruits = [\"apple\", \"banana\", \"cherry\"] #lists []\n",
        "colors = (\"red\", \"green\", \"blue\") #tuples ()\n",
        "animals = {'cat', 'dog'} #sets {}\n",
        "person = {\"name\" : \"Tom\", \"age\" : 20} #dictionaries {}"
      ]
    },
    {
      "cell_type": "markdown",
      "metadata": {
        "id": "IJVPFhhQd5u2"
      },
      "source": [
        "### Ví dụ ứng dụng trong Tài chính (Trang 59-62)"
      ]
    },
    {
      "cell_type": "code",
      "execution_count": 22,
      "metadata": {
        "colab": {
          "base_uri": "https://localhost:8080/"
        },
        "id": "rudDtwvkd5u2",
        "outputId": "911a4e0d-f2cf-4e58-ec80-ba005184b6e5"
      },
      "outputs": [
        {
          "name": "stdout",
          "output_type": "stream",
          "text": [
            "Total expenses: 293.5\n"
          ]
        }
      ],
      "source": [
        "# List: Tính tổng chi phí\n",
        "expenses = [72.50, 80.75, 50.00, 90.25]\n",
        "total_expenses = sum(expenses)\n",
        "print(\"Total expenses:\", total_expenses)"
      ]
    },
    {
      "cell_type": "code",
      "execution_count": 23,
      "metadata": {
        "colab": {
          "base_uri": "https://localhost:8080/"
        },
        "id": "bekPwyLmd5u2",
        "outputId": "6478b873-d31c-4554-9043-88ca51012646"
      },
      "outputs": [
        {
          "name": "stdout",
          "output_type": "stream",
          "text": [
            "Account name: Cash Account number: 1001\n",
            "Account name: Accounts Receivable Account number: 1002\n",
            "Account name: Inventory Account number: 1003\n"
          ]
        }
      ],
      "source": [
        "# Tuple: Lưu trữ thông tin tài khoản\n",
        "accounts = ((\"Cash\", 1001), (\"Accounts Receivable\", 1002), (\"Inventory\", 1003))\n",
        "for account in accounts:\n",
        "    print(\"Account name:\", account[0], \"Account number:\", account[1])"
      ]
    },
    {
      "cell_type": "code",
      "execution_count": 24,
      "metadata": {
        "colab": {
          "base_uri": "https://localhost:8080/"
        },
        "id": "kGGEIe2Yd5u2",
        "outputId": "7fa82542-6822-4212-cc61-b1f922b1abac"
      },
      "outputs": [
        {
          "name": "stdout",
          "output_type": "stream",
          "text": [
            "Account number 1004 is not in use.\n"
          ]
        }
      ],
      "source": [
        "# Set: Kiểm tra sự tồn tại của số tài khoản\n",
        "account_numbers = {1001, 1002, 1003}\n",
        "new_account_number = 1004\n",
        "if new_account_number not in account_numbers:\n",
        "    print(\"Account number\", new_account_number, \"is not in use.\")"
      ]
    },
    {
      "cell_type": "code",
      "execution_count": 25,
      "metadata": {
        "colab": {
          "base_uri": "https://localhost:8080/"
        },
        "id": "M-7VDVIWd5u2",
        "outputId": "ec27894e-60e4-4058-f061-2259537cdd34"
      },
      "outputs": [
        {
          "name": "stdout",
          "output_type": "stream",
          "text": [
            "\n",
            "Account number: 1001\n",
            "Account name: Cash\n",
            "Account balance: 500.0\n",
            "Account type: Asset\n",
            "\n",
            "Account number: 1002\n",
            "Account name: Accounts Receivable\n",
            "Account balance: 1000.0\n",
            "Account type: Asset\n",
            "\n",
            "Account number: 2001\n",
            "Account name: Accounts Payable\n",
            "Account balance: 750.0\n",
            "Account type: Liability\n"
          ]
        }
      ],
      "source": [
        "# Dictionary: Quản lý thông tin chi tiết tài khoản\n",
        "accounts = {\n",
        "    \"1001\": {\"name\": \"Cash\", \"balance\": 500.00, \"type\": \"Asset\"},\n",
        "    \"1002\": {\"name\": \"Accounts Receivable\", \"balance\": 1000.00, \"type\": \"Asset\"},\n",
        "    \"2001\": {\"name\": \"Accounts Payable\", \"balance\": 750.00, \"type\": \"Liability\"}\n",
        "}\n",
        "for account_number, account_info in accounts.items():\n",
        "    print(\"\\nAccount number:\", account_number)\n",
        "    print(\"Account name:\", account_info[\"name\"])\n",
        "    print(\"Account balance:\", account_info[\"balance\"])\n",
        "    print(\"Account type:\", account_info[\"type\"])"
      ]
    },
    {
      "cell_type": "markdown",
      "metadata": {
        "id": "mRTPmsSTd5u2"
      },
      "source": [
        "## 5. Luồng điều khiển và Vòng lặp"
      ]
    },
    {
      "cell_type": "markdown",
      "metadata": {
        "id": "uwMan4WLd5u2"
      },
      "source": [
        "### Câu lệnh if (Trang 70-73)"
      ]
    },
    {
      "cell_type": "code",
      "execution_count": 26,
      "metadata": {
        "colab": {
          "base_uri": "https://localhost:8080/"
        },
        "id": "Oi1gb9rNd5u2",
        "outputId": "e33965bc-bd8f-4482-8c32-84364ec098a2"
      },
      "outputs": [
        {
          "name": "stdout",
          "output_type": "stream",
          "text": [
            "Pass\n"
          ]
        }
      ],
      "source": [
        "# if\n",
        "score = 80\n",
        "if score >= 60:\n",
        "    print(\"Pass\")"
      ]
    },
    {
      "cell_type": "code",
      "execution_count": 27,
      "metadata": {
        "colab": {
          "base_uri": "https://localhost:8080/"
        },
        "id": "TZBhyfukd5u2",
        "outputId": "4cc4713b-89e2-4de7-b858-71c965ac435b"
      },
      "outputs": [
        {
          "name": "stdout",
          "output_type": "stream",
          "text": [
            "Fail\n"
          ]
        }
      ],
      "source": [
        "# if-else\n",
        "score = 50\n",
        "if score >= 60:\n",
        "    print(\"Pass\")\n",
        "else:\n",
        "    print(\"Fail\")"
      ]
    },
    {
      "cell_type": "code",
      "execution_count": 28,
      "metadata": {
        "colab": {
          "base_uri": "https://localhost:8080/"
        },
        "id": "UiYTGmkpd5u2",
        "outputId": "5073c5b7-294d-4cec-a330-c573d1504b61"
      },
      "outputs": [
        {
          "name": "stdout",
          "output_type": "stream",
          "text": [
            "A\n"
          ]
        }
      ],
      "source": [
        "# if-elif-else\n",
        "score = 95\n",
        "if score >= 90:\n",
        "    print(\"A\")\n",
        "elif score >= 60:\n",
        "    print(\"Pass\")\n",
        "else:\n",
        "    print(\"Fail\")"
      ]
    },
    {
      "cell_type": "code",
      "execution_count": 29,
      "metadata": {
        "colab": {
          "base_uri": "https://localhost:8080/"
        },
        "id": "SeH6-rFTd5u3",
        "outputId": "a1071591-00b8-4588-ea97-98edd208172d"
      },
      "outputs": [
        {
          "name": "stdout",
          "output_type": "stream",
          "text": [
            "A\n"
          ]
        }
      ],
      "source": [
        "# Ví dụ xếp loại điểm\n",
        "score = 90\n",
        "grade = \"\"\n",
        "if score >= 90:\n",
        "    grade = \"A\"\n",
        "elif score >= 80:\n",
        "    grade = \"B\"\n",
        "elif score >= 70:\n",
        "    grade = \"C\"\n",
        "elif score >= 60:\n",
        "    grade = \"D\"\n",
        "else:\n",
        "    grade = \"E\"\n",
        "print(grade)"
      ]
    },
    {
      "cell_type": "markdown",
      "metadata": {
        "id": "9YD6glbsd5u3"
      },
      "source": [
        "### Vòng lặp for (Trang 74-75)"
      ]
    },
    {
      "cell_type": "code",
      "execution_count": 30,
      "metadata": {
        "colab": {
          "base_uri": "https://localhost:8080/"
        },
        "id": "hD82idWjd5u3",
        "outputId": "4433d15f-d5a6-4fcc-f308-5625e6c20f4f"
      },
      "outputs": [
        {
          "name": "stdout",
          "output_type": "stream",
          "text": [
            "1\n",
            "2\n",
            "3\n",
            "4\n",
            "5\n"
          ]
        }
      ],
      "source": [
        "for i in range(1, 6):\n",
        "    print(i)"
      ]
    },
    {
      "cell_type": "code",
      "execution_count": 31,
      "metadata": {
        "colab": {
          "base_uri": "https://localhost:8080/"
        },
        "id": "ZaDqZ05qd5u3",
        "outputId": "e60b1069-5693-4836-efba-4bbdae0650b4"
      },
      "outputs": [
        {
          "name": "stdout",
          "output_type": "stream",
          "text": [
            "1  *  1  =  1\n",
            "1  *  2  =  2\n",
            "1  *  3  =  3\n",
            "1  *  4  =  4\n",
            "1  *  5  =  5\n",
            "1  *  6  =  6\n",
            "1  *  7  =  7\n",
            "1  *  8  =  8\n",
            "1  *  9  =  9\n",
            "2  *  1  =  2\n",
            "2  *  2  =  4\n",
            "2  *  3  =  6\n",
            "2  *  4  =  8\n",
            "2  *  5  =  10\n",
            "2  *  6  =  12\n",
            "2  *  7  =  14\n",
            "2  *  8  =  16\n",
            "2  *  9  =  18\n",
            "3  *  1  =  3\n",
            "3  *  2  =  6\n",
            "3  *  3  =  9\n",
            "3  *  4  =  12\n",
            "3  *  5  =  15\n",
            "3  *  6  =  18\n",
            "3  *  7  =  21\n",
            "3  *  8  =  24\n",
            "3  *  9  =  27\n",
            "4  *  1  =  4\n",
            "4  *  2  =  8\n",
            "4  *  3  =  12\n",
            "4  *  4  =  16\n",
            "4  *  5  =  20\n",
            "4  *  6  =  24\n",
            "4  *  7  =  28\n",
            "4  *  8  =  32\n",
            "4  *  9  =  36\n",
            "5  *  1  =  5\n",
            "5  *  2  =  10\n",
            "5  *  3  =  15\n",
            "5  *  4  =  20\n",
            "5  *  5  =  25\n",
            "5  *  6  =  30\n",
            "5  *  7  =  35\n",
            "5  *  8  =  40\n",
            "5  *  9  =  45\n",
            "6  *  1  =  6\n",
            "6  *  2  =  12\n",
            "6  *  3  =  18\n",
            "6  *  4  =  24\n",
            "6  *  5  =  30\n",
            "6  *  6  =  36\n",
            "6  *  7  =  42\n",
            "6  *  8  =  48\n",
            "6  *  9  =  54\n",
            "7  *  1  =  7\n",
            "7  *  2  =  14\n",
            "7  *  3  =  21\n",
            "7  *  4  =  28\n",
            "7  *  5  =  35\n",
            "7  *  6  =  42\n",
            "7  *  7  =  49\n",
            "7  *  8  =  56\n",
            "7  *  9  =  63\n",
            "8  *  1  =  8\n",
            "8  *  2  =  16\n",
            "8  *  3  =  24\n",
            "8  *  4  =  32\n",
            "8  *  5  =  40\n",
            "8  *  6  =  48\n",
            "8  *  7  =  56\n",
            "8  *  8  =  64\n",
            "8  *  9  =  72\n",
            "9  *  1  =  9\n",
            "9  *  2  =  18\n",
            "9  *  3  =  27\n",
            "9  *  4  =  36\n",
            "9  *  5  =  45\n",
            "9  *  6  =  54\n",
            "9  *  7  =  63\n",
            "9  *  8  =  72\n",
            "9  *  9  =  81\n"
          ]
        }
      ],
      "source": [
        "# Vòng lặp lồng nhau (Bảng cửu chương)\n",
        "for i in range(1, 10):\n",
        "    for j in range(1, 10):\n",
        "        print(i, ' * ' , j , ' = ', i*j)"
      ]
    },
    {
      "cell_type": "markdown",
      "metadata": {
        "id": "-a1THrTHd5u3"
      },
      "source": [
        "### Vòng lặp while (Trang 77)"
      ]
    },
    {
      "cell_type": "code",
      "execution_count": 32,
      "metadata": {
        "colab": {
          "base_uri": "https://localhost:8080/"
        },
        "id": "T8vfSJ01d5u3",
        "outputId": "ec9d28a8-44fb-476c-f76f-7ea105b611df"
      },
      "outputs": [
        {
          "name": "stdout",
          "output_type": "stream",
          "text": [
            "10\n",
            "11\n",
            "12\n",
            "13\n",
            "14\n",
            "15\n",
            "16\n",
            "17\n",
            "18\n",
            "19\n"
          ]
        }
      ],
      "source": [
        "age = 10\n",
        "while age < 20:\n",
        "    print(age)\n",
        "    age = age + 1"
      ]
    },
    {
      "cell_type": "markdown",
      "metadata": {
        "id": "qbIWkOgHd5u3"
      },
      "source": [
        "## 6. Hàm và Lập trình Hướng đối tượng (OOP)"
      ]
    },
    {
      "cell_type": "markdown",
      "metadata": {
        "id": "nQ799Lcpd5u3"
      },
      "source": [
        "### Định nghĩa Hàm (Function) (Trang 81, 86)"
      ]
    },
    {
      "cell_type": "code",
      "execution_count": 33,
      "metadata": {
        "colab": {
          "base_uri": "https://localhost:8080/"
        },
        "id": "7sEm0bUpd5u3",
        "outputId": "174107c1-51b6-4526-d23e-802b15f25981"
      },
      "outputs": [
        {
          "name": "stdout",
          "output_type": "stream",
          "text": [
            "194.87\n"
          ]
        }
      ],
      "source": [
        "# Hàm tính giá trị tương lai\n",
        "def getfv(pv, r, n):\n",
        "    fv = pv * ((1 + (r)) ** n)\n",
        "    return fv\n",
        "\n",
        "# Gọi hàm\n",
        "fv = getfv(100, 0.1, 7)\n",
        "print(round(fv, 2))"
      ]
    },
    {
      "cell_type": "markdown",
      "metadata": {
        "id": "AUvYKwlUd5u4"
      },
      "source": [
        "### Lớp (Class) và Đối tượng (Object) (Trang 89-94)"
      ]
    },
    {
      "cell_type": "code",
      "execution_count": 34,
      "metadata": {
        "colab": {
          "base_uri": "https://localhost:8080/"
        },
        "id": "zLFBxdKSd5u4",
        "outputId": "98990014-3e29-480c-afa8-4f4fbd42c51e"
      },
      "outputs": [
        {
          "name": "stdout",
          "output_type": "stream",
          "text": [
            "5\n"
          ]
        }
      ],
      "source": [
        "# Tạo một class đơn giản\n",
        "class MyClass:\n",
        "    x = 5\n",
        "\n",
        "# Tạo đối tượng từ class\n",
        "c1 = MyClass()\n",
        "print(c1.x)"
      ]
    },
    {
      "cell_type": "code",
      "execution_count": 35,
      "metadata": {
        "colab": {
          "base_uri": "https://localhost:8080/"
        },
        "id": "gqEOz4nad5u4",
        "outputId": "2adc9f53-943a-4f84-b45a-00ca2250ff6c"
      },
      "outputs": [
        {
          "name": "stdout",
          "output_type": "stream",
          "text": [
            "Alan\n",
            "20\n"
          ]
        }
      ],
      "source": [
        "# Class với hàm khởi tạo __init__\n",
        "class Person:\n",
        "    def __init__(self, name, age):\n",
        "        self.name = name\n",
        "        self.age = age\n",
        "\n",
        "p1 = Person(\"Alan\", 20)\n",
        "print(p1.name)\n",
        "print(p1.age)"
      ]
    },
    {
      "cell_type": "code",
      "execution_count": 36,
      "metadata": {
        "colab": {
          "base_uri": "https://localhost:8080/"
        },
        "id": "MFPO3NgJd5u4",
        "outputId": "4d620467-b8af-4d12-82bf-4feebf2030fe"
      },
      "outputs": [
        {
          "name": "stdout",
          "output_type": "stream",
          "text": [
            "Hello my name is Alan\n",
            "Alan\n",
            "20\n"
          ]
        }
      ],
      "source": [
        "# Class với phương thức (method)\n",
        "class Person:\n",
        "    def __init__(self, name, age):\n",
        "        self.name = name\n",
        "        self.age = age\n",
        "\n",
        "    def myfunc(self):\n",
        "        print(\"Hello my name is \" + self.name)\n",
        "\n",
        "p1 = Person(\"Alan\", 20)\n",
        "p1.myfunc()\n",
        "print(p1.name)\n",
        "print(p1.age)"
      ]
    },
    {
      "cell_type": "code",
      "execution_count": 37,
      "metadata": {
        "colab": {
          "base_uri": "https://localhost:8080/"
        },
        "id": "IFFJTncGd5u4",
        "outputId": "30fec195-2709-4f3f-e3de-94d39ac88222"
      },
      "outputs": [
        {
          "name": "stdout",
          "output_type": "stream",
          "text": [
            "Fer is a red convertible worth $60000.00.\n",
            "Fer\n",
            "Jump is a blue van worth $10000.00.\n",
            "Jump\n"
          ]
        }
      ],
      "source": [
        "# Ví dụ class Vehicle\n",
        "class Vehicle:\n",
        "    name = \"\"\n",
        "    kind = \"car\"\n",
        "    color = \"\"\n",
        "    value = 100.00\n",
        "    def description(self):\n",
        "        desc_str = \"%s is a %s %s worth $%.2f.\" % (self.name, self.color, self.kind, self.value)\n",
        "        return desc_str\n",
        "\n",
        "# Tạo các đối tượng từ class Vehicle\n",
        "car1 = Vehicle()\n",
        "car1.name = \"Fer\"\n",
        "car1.color = \"red\"\n",
        "car1.kind = \"convertible\"\n",
        "car1.value = 60000.00\n",
        "\n",
        "car2 = Vehicle()\n",
        "car2.name = \"Jump\"\n",
        "car2.color = \"blue\"\n",
        "car2.kind = \"van\"\n",
        "car2.value = 10000.00\n",
        "\n",
        "# Gọi phương thức và truy cập thuộc tính\n",
        "print(car1.description())\n",
        "print(car1.name)\n",
        "print(car2.description())\n",
        "print(car2.name)"
      ]
    },
    {
      "cell_type": "markdown",
      "metadata": {
        "id": "Nh7AcYQcd5u4"
      },
      "source": [
        "## 7. Module và Xử lý File"
      ]
    },
    {
      "cell_type": "markdown",
      "metadata": {
        "id": "iDhvaOJPd5u4"
      },
      "source": [
        "### Module (Trang 96-100)\n",
        "\n",
        "Cell dưới đây sử dụng magic command `%%writefile` để tạo file `mymodule.py` ngay trong môi trường notebook."
      ]
    },
    {
      "cell_type": "code",
      "execution_count": 38,
      "metadata": {
        "colab": {
          "base_uri": "https://localhost:8080/"
        },
        "id": "gkGJCAold5u4",
        "outputId": "575da3ca-6227-48ef-feec-44f172f0d28c"
      },
      "outputs": [
        {
          "name": "stdout",
          "output_type": "stream",
          "text": [
            "Writing mymodule.py\n"
          ]
        }
      ],
      "source": [
        "%%writefile mymodule.py\n",
        "# Đây là nội dung của file mymodule.py\n",
        "def greeting(name):\n",
        "    print(\"Hello, \" + name)"
      ]
    },
    {
      "cell_type": "code",
      "execution_count": 39,
      "metadata": {
        "colab": {
          "base_uri": "https://localhost:8080/"
        },
        "id": "s5F_zpg0d5u4",
        "outputId": "5cdd5682-50d6-47c2-9d6e-7552ed8eded6"
      },
      "outputs": [
        {
          "name": "stdout",
          "output_type": "stream",
          "text": [
            "Hello, Alan\n"
          ]
        }
      ],
      "source": [
        "# Bây giờ import và sử dụng module vừa tạo\n",
        "import mymodule\n",
        "\n",
        "mymodule.greeting(\"Alan\")"
      ]
    },
    {
      "cell_type": "markdown",
      "metadata": {
        "id": "lwujRkhFd5u5"
      },
      "source": [
        "### Hàm main() (Trang 101)"
      ]
    },
    {
      "cell_type": "code",
      "execution_count": 40,
      "metadata": {
        "colab": {
          "base_uri": "https://localhost:8080/"
        },
        "id": "BrPq-393d5u5",
        "outputId": "ce6bcefa-0e5f-4e50-faa4-a9391348c732"
      },
      "outputs": [
        {
          "name": "stdout",
          "output_type": "stream",
          "text": [
            "Hello World from main()!\n"
          ]
        }
      ],
      "source": [
        "# Quy ước về hàm main trong Python\n",
        "def main():\n",
        "    print(\"Hello World from main()!\")\n",
        "\n",
        "if __name__ == \"__main__\":\n",
        "    main()"
      ]
    },
    {
      "cell_type": "markdown",
      "metadata": {
        "id": "GPO-qm9Nd5u5"
      },
      "source": [
        "### Xử lý File (File I/O) (Trang 106-109)"
      ]
    },
    {
      "cell_type": "code",
      "execution_count": 48,
      "metadata": {
        "colab": {
          "base_uri": "https://localhost:8080/"
        },
        "id": "9G3ziigzd5u5",
        "outputId": "95e73e87-748d-4bd3-8751-51832ee3f652"
      },
      "outputs": [
        {
          "name": "stdout",
          "output_type": "stream",
          "text": [
            "Hello World\n"
          ]
        }
      ],
      "source": [
        "# Ghi và đọc file theo cách thông thường\n",
        "f = open(\"data/myfile.txt\", \"w\")\n",
        "f.write(\"Hello World\")\n",
        "f.close()\n",
        "\n",
        "f = open(\"data/myfile.txt\", \"r\")\n",
        "text = f.read()\n",
        "print(text)\n",
        "f.close()"
      ]
    },
    {
      "cell_type": "code",
      "execution_count": 49,
      "metadata": {
        "colab": {
          "base_uri": "https://localhost:8080/"
        },
        "id": "q7jcLDN1d5u5",
        "outputId": "03fa02f9-4b9d-4f05-af8c-90c1347afaec"
      },
      "outputs": [
        {
          "name": "stdout",
          "output_type": "stream",
          "text": [
            "Hello World\n",
            "Python File IO\n"
          ]
        }
      ],
      "source": [
        "# Sử dụng 'with open' là cách được khuyến khích (tự động đóng file)\n",
        "with open('data/myfile.txt', 'w') as file:\n",
        "    file.write('Hello World\\nPython File IO')\n",
        "\n",
        "with open('data/myfile.txt', 'r') as file:\n",
        "    text = file.read()\n",
        "    print(text)"
      ]
    },
    {
      "cell_type": "code",
      "execution_count": 50,
      "metadata": {
        "colab": {
          "base_uri": "https://localhost:8080/"
        },
        "id": "7OKzpziUd5u5",
        "outputId": "8f090602-3df2-4cd3-e3a1-3e260eb07a39"
      },
      "outputs": [
        {
          "name": "stdout",
          "output_type": "stream",
          "text": [
            "Hello World\n",
            "Python File IO\n",
            "New line\n"
          ]
        }
      ],
      "source": [
        "# Ghi bổ sung vào cuối file (append mode 'a+')\n",
        "with open('data/myfile.txt', 'a+') as file:\n",
        "    file.write('\\n' + 'New line')\n",
        "\n",
        "# Đọc lại file sau khi ghi bổ sung\n",
        "with open('data/myfile.txt', 'r') as file:\n",
        "    text = file.read()\n",
        "    print(text)"
      ]
    },
    {
      "cell_type": "markdown",
      "metadata": {
        "id": "ChVnVZ-jd5u5"
      },
      "source": [
        "### Thao tác với hệ thống file bằng thư viện `os` (Trang 110-117)\n",
        "\n",
        "Lưu ý: Các lệnh có dấu `!` là lệnh shell, không phải mã Python."
      ]
    },
    {
      "cell_type": "code",
      "execution_count": 5,
      "metadata": {
        "colab": {
          "base_uri": "https://localhost:8080/"
        },
        "id": "cZLlfZMId5u5",
        "outputId": "88e6bea4-fd66-4836-a671-6f3f0c738c32"
      },
      "outputs": [
        {
          "name": "stdout",
          "output_type": "stream",
          "text": [
            " Volume in drive D is New Volume\n",
            " Volume Serial Number is 0C92-439C\n",
            "\n",
            " Directory of d:\\ai_pratice_prj\\lession2\n",
            "\n",
            "09/18/2025  11:17 PM    <DIR>          .\n",
            "09/17/2025  09:43 PM    <DIR>          ..\n",
            "09/17/2025  10:44 PM           363,350 03_exercise_01.html\n",
            "09/17/2025  10:43 PM            25,874 03_exercise_01.ipynb\n",
            "09/17/2025  11:29 PM           444,538 04_exercise_02.html\n",
            "09/18/2025  11:10 PM           116,589 04_exercise_02.ipynb\n",
            "09/18/2025  11:12 PM    <DIR>          data\n",
            "09/18/2025  11:12 PM                97 mymodule.py\n",
            "09/18/2025  10:49 PM           576,403 Slide_PTDL - 03 - Hien thi va phan tich du lieu voi Python_Code.ipynb\n",
            "09/18/2025  11:16 PM            63,753 Slide_PTDL_02_Python_Programming_Code (1).ipynb\n",
            "09/18/2025  11:12 PM            60,687 Slide_PTDL_02_Python_Programming_Code.ipynb\n",
            "09/18/2025  11:08 PM           602,024 Slide_Python Numpy Matplotlib Pandas_Code.ipynb\n",
            "09/18/2025  11:12 PM    <DIR>          __pycache__\n",
            "               9 File(s)      2,253,315 bytes\n",
            "               4 Dir(s)  251,631,149,056 bytes free\n"
          ]
        }
      ],
      "source": [
        "# Liệt kê các file trong thư mục hiện tại (lệnh shell)\n",
        "!dir"
      ]
    },
    {
      "cell_type": "code",
      "execution_count": 4,
      "metadata": {
        "colab": {
          "base_uri": "https://localhost:8080/"
        },
        "id": "u0hwmGQVd5u5",
        "outputId": "85eeebb1-72e4-4d8d-bca9-34d92965571b"
      },
      "outputs": [
        {
          "name": "stdout",
          "output_type": "stream",
          "text": [
            "d:\\ai_pratice_prj\\lession2\n",
            "['03_exercise_01.html', '03_exercise_01.ipynb', '04_exercise_02.html', '04_exercise_02.ipynb', 'data', 'mymodule.py', 'Slide_PTDL - 03 - Hien thi va phan tich du lieu voi Python_Code.ipynb', 'Slide_PTDL_02_Python_Programming_Code (1).ipynb', 'Slide_PTDL_02_Python_Programming_Code.ipynb', 'Slide_Python Numpy Matplotlib Pandas_Code.ipynb', '__pycache__']\n"
          ]
        }
      ],
      "source": [
        "import os\n",
        "\n",
        "# Lấy thư mục làm việc hiện tại\n",
        "cwd = os.getcwd()\n",
        "print(cwd)\n",
        "\n",
        "# Liệt kê file và thư mục bằng Python\n",
        "print(os.listdir(cwd))"
      ]
    },
    {
      "cell_type": "code",
      "execution_count": 46,
      "metadata": {
        "colab": {
          "base_uri": "https://localhost:8080/",
          "height": 34
        },
        "id": "UHk6ETTUd5u5",
        "outputId": "ae09a2ee-b531-4afa-eeb3-b4f3e529446a"
      },
      "outputs": [
        {
          "data": {
            "application/javascript": "\n    async function download(id, filename, size) {\n      if (!google.colab.kernel.accessAllowed) {\n        return;\n      }\n      const div = document.createElement('div');\n      const label = document.createElement('label');\n      label.textContent = `Downloading \"${filename}\": `;\n      div.appendChild(label);\n      const progress = document.createElement('progress');\n      progress.max = size;\n      div.appendChild(progress);\n      document.body.appendChild(div);\n\n      const buffers = [];\n      let downloaded = 0;\n\n      const channel = await google.colab.kernel.comms.open(id);\n      // Send a message to notify the kernel that we're ready.\n      channel.send({})\n\n      for await (const message of channel.messages) {\n        // Send a message to notify the kernel that we're ready.\n        channel.send({})\n        if (message.buffers) {\n          for (const buffer of message.buffers) {\n            buffers.push(buffer);\n            downloaded += buffer.byteLength;\n            progress.value = downloaded;\n          }\n        }\n      }\n      const blob = new Blob(buffers, {type: 'application/binary'});\n      const a = document.createElement('a');\n      a.href = window.URL.createObjectURL(blob);\n      a.download = filename;\n      div.appendChild(a);\n      a.click();\n      div.remove();\n    }\n  ",
            "text/plain": [
              "<IPython.core.display.Javascript object>"
            ]
          },
          "metadata": {},
          "output_type": "display_data"
        },
        {
          "data": {
            "application/javascript": "download(\"download_0c0d6036-5360-4053-8ce2-01b2dd307986\", \"io_file_myday.txt\", 47)",
            "text/plain": [
              "<IPython.core.display.Javascript object>"
            ]
          },
          "metadata": {},
          "output_type": "display_data"
        },
        {
          "name": "stdout",
          "output_type": "stream",
          "text": [
            "downloaded\n"
          ]
        }
      ],
      "source": [
        "from google.colab import files\n",
        "\n",
        "with open('io_file_myday.txt', 'w') as f:\n",
        "    f.write('Google Colab File Write Text some content Myday')\n",
        "\n",
        "import time\n",
        "time.sleep(1) # time sleep 1 second\n",
        "\n",
        "files.download('io_file_myday.txt')\n",
        "print('downloaded')"
      ]
    },
    {
      "cell_type": "code",
      "execution_count": 47,
      "metadata": {
        "colab": {
          "base_uri": "https://localhost:8080/",
          "height": 90
        },
        "id": "b4StxYowd5u6",
        "outputId": "5af39377-fa19-4b2d-e183-98cbd62e2a9f"
      },
      "outputs": [
        {
          "data": {
            "text/html": [
              "\n",
              "     <input type=\"file\" id=\"files-9064b26b-2f3a-4e5b-bc18-5610c3d1d3f4\" name=\"files[]\" multiple disabled\n",
              "        style=\"border:none\" />\n",
              "     <output id=\"result-9064b26b-2f3a-4e5b-bc18-5610c3d1d3f4\">\n",
              "      Upload widget is only available when the cell has been executed in the\n",
              "      current browser session. Please rerun this cell to enable.\n",
              "      </output>\n",
              "      <script>// Copyright 2017 Google LLC\n",
              "//\n",
              "// Licensed under the Apache License, Version 2.0 (the \"License\");\n",
              "// you may not use this file except in compliance with the License.\n",
              "// You may obtain a copy of the License at\n",
              "//\n",
              "//      http://www.apache.org/licenses/LICENSE-2.0\n",
              "//\n",
              "// Unless required by applicable law or agreed to in writing, software\n",
              "// distributed under the License is distributed on an \"AS IS\" BASIS,\n",
              "// WITHOUT WARRANTIES OR CONDITIONS OF ANY KIND, either express or implied.\n",
              "// See the License for the specific language governing permissions and\n",
              "// limitations under the License.\n",
              "\n",
              "/**\n",
              " * @fileoverview Helpers for google.colab Python module.\n",
              " */\n",
              "(function(scope) {\n",
              "function span(text, styleAttributes = {}) {\n",
              "  const element = document.createElement('span');\n",
              "  element.textContent = text;\n",
              "  for (const key of Object.keys(styleAttributes)) {\n",
              "    element.style[key] = styleAttributes[key];\n",
              "  }\n",
              "  return element;\n",
              "}\n",
              "\n",
              "// Max number of bytes which will be uploaded at a time.\n",
              "const MAX_PAYLOAD_SIZE = 100 * 1024;\n",
              "\n",
              "function _uploadFiles(inputId, outputId) {\n",
              "  const steps = uploadFilesStep(inputId, outputId);\n",
              "  const outputElement = document.getElementById(outputId);\n",
              "  // Cache steps on the outputElement to make it available for the next call\n",
              "  // to uploadFilesContinue from Python.\n",
              "  outputElement.steps = steps;\n",
              "\n",
              "  return _uploadFilesContinue(outputId);\n",
              "}\n",
              "\n",
              "// This is roughly an async generator (not supported in the browser yet),\n",
              "// where there are multiple asynchronous steps and the Python side is going\n",
              "// to poll for completion of each step.\n",
              "// This uses a Promise to block the python side on completion of each step,\n",
              "// then passes the result of the previous step as the input to the next step.\n",
              "function _uploadFilesContinue(outputId) {\n",
              "  const outputElement = document.getElementById(outputId);\n",
              "  const steps = outputElement.steps;\n",
              "\n",
              "  const next = steps.next(outputElement.lastPromiseValue);\n",
              "  return Promise.resolve(next.value.promise).then((value) => {\n",
              "    // Cache the last promise value to make it available to the next\n",
              "    // step of the generator.\n",
              "    outputElement.lastPromiseValue = value;\n",
              "    return next.value.response;\n",
              "  });\n",
              "}\n",
              "\n",
              "/**\n",
              " * Generator function which is called between each async step of the upload\n",
              " * process.\n",
              " * @param {string} inputId Element ID of the input file picker element.\n",
              " * @param {string} outputId Element ID of the output display.\n",
              " * @return {!Iterable<!Object>} Iterable of next steps.\n",
              " */\n",
              "function* uploadFilesStep(inputId, outputId) {\n",
              "  const inputElement = document.getElementById(inputId);\n",
              "  inputElement.disabled = false;\n",
              "\n",
              "  const outputElement = document.getElementById(outputId);\n",
              "  outputElement.innerHTML = '';\n",
              "\n",
              "  const pickedPromise = new Promise((resolve) => {\n",
              "    inputElement.addEventListener('change', (e) => {\n",
              "      resolve(e.target.files);\n",
              "    });\n",
              "  });\n",
              "\n",
              "  const cancel = document.createElement('button');\n",
              "  inputElement.parentElement.appendChild(cancel);\n",
              "  cancel.textContent = 'Cancel upload';\n",
              "  const cancelPromise = new Promise((resolve) => {\n",
              "    cancel.onclick = () => {\n",
              "      resolve(null);\n",
              "    };\n",
              "  });\n",
              "\n",
              "  // Wait for the user to pick the files.\n",
              "  const files = yield {\n",
              "    promise: Promise.race([pickedPromise, cancelPromise]),\n",
              "    response: {\n",
              "      action: 'starting',\n",
              "    }\n",
              "  };\n",
              "\n",
              "  cancel.remove();\n",
              "\n",
              "  // Disable the input element since further picks are not allowed.\n",
              "  inputElement.disabled = true;\n",
              "\n",
              "  if (!files) {\n",
              "    return {\n",
              "      response: {\n",
              "        action: 'complete',\n",
              "      }\n",
              "    };\n",
              "  }\n",
              "\n",
              "  for (const file of files) {\n",
              "    const li = document.createElement('li');\n",
              "    li.append(span(file.name, {fontWeight: 'bold'}));\n",
              "    li.append(span(\n",
              "        `(${file.type || 'n/a'}) - ${file.size} bytes, ` +\n",
              "        `last modified: ${\n",
              "            file.lastModifiedDate ? file.lastModifiedDate.toLocaleDateString() :\n",
              "                                    'n/a'} - `));\n",
              "    const percent = span('0% done');\n",
              "    li.appendChild(percent);\n",
              "\n",
              "    outputElement.appendChild(li);\n",
              "\n",
              "    const fileDataPromise = new Promise((resolve) => {\n",
              "      const reader = new FileReader();\n",
              "      reader.onload = (e) => {\n",
              "        resolve(e.target.result);\n",
              "      };\n",
              "      reader.readAsArrayBuffer(file);\n",
              "    });\n",
              "    // Wait for the data to be ready.\n",
              "    let fileData = yield {\n",
              "      promise: fileDataPromise,\n",
              "      response: {\n",
              "        action: 'continue',\n",
              "      }\n",
              "    };\n",
              "\n",
              "    // Use a chunked sending to avoid message size limits. See b/62115660.\n",
              "    let position = 0;\n",
              "    do {\n",
              "      const length = Math.min(fileData.byteLength - position, MAX_PAYLOAD_SIZE);\n",
              "      const chunk = new Uint8Array(fileData, position, length);\n",
              "      position += length;\n",
              "\n",
              "      const base64 = btoa(String.fromCharCode.apply(null, chunk));\n",
              "      yield {\n",
              "        response: {\n",
              "          action: 'append',\n",
              "          file: file.name,\n",
              "          data: base64,\n",
              "        },\n",
              "      };\n",
              "\n",
              "      let percentDone = fileData.byteLength === 0 ?\n",
              "          100 :\n",
              "          Math.round((position / fileData.byteLength) * 100);\n",
              "      percent.textContent = `${percentDone}% done`;\n",
              "\n",
              "    } while (position < fileData.byteLength);\n",
              "  }\n",
              "\n",
              "  // All done.\n",
              "  yield {\n",
              "    response: {\n",
              "      action: 'complete',\n",
              "    }\n",
              "  };\n",
              "}\n",
              "\n",
              "scope.google = scope.google || {};\n",
              "scope.google.colab = scope.google.colab || {};\n",
              "scope.google.colab._files = {\n",
              "  _uploadFiles,\n",
              "  _uploadFilesContinue,\n",
              "};\n",
              "})(self);\n",
              "</script> "
            ],
            "text/plain": [
              "<IPython.core.display.HTML object>"
            ]
          },
          "metadata": {},
          "output_type": "display_data"
        },
        {
          "name": "stdout",
          "output_type": "stream",
          "text": [
            "Saving myfile.txt to myfile (1).txt\n",
            "User uploaded file \"myfile (1).txt\"with length 37 bytes\n"
          ]
        }
      ],
      "source": [
        "from google.colab import files\n",
        "uploaded = files.upload()\n",
        "\n",
        "for fn in uploaded.keys():\n",
        "    print('User uploaded file \"{name}\"with length {length} bytes'.format(\n",
        "              name=fn, length=len(uploaded[fn])))"
      ]
    },
    {
      "cell_type": "code",
      "execution_count": 52,
      "metadata": {
        "colab": {
          "base_uri": "https://localhost:8080/"
        },
        "id": "U9-Ky-Ved5u6",
        "outputId": "78d2ad47-7cf3-4c3b-d2b5-08117c8061c4"
      },
      "outputs": [
        {
          "name": "stdout",
          "output_type": "stream",
          "text": [
            "myfile.txt removed\n"
          ]
        }
      ],
      "source": [
        "import os\n",
        "\n",
        "# Xóa file nếu nó tồn tại\n",
        "if os.path.exists(\"data/myfile.txt\"):\n",
        "    os.remove(\"data/myfile.txt\")\n",
        "    print(\"myfile.txt removed\")\n",
        "else:\n",
        "    print(\"The file does not exist\")"
      ]
    },
    {
      "cell_type": "code",
      "execution_count": 53,
      "metadata": {
        "colab": {
          "base_uri": "https://localhost:8080/"
        },
        "id": "0ztumg9xd5u6",
        "outputId": "113f9275-4514-45d8-8992-acdddf6014af"
      },
      "outputs": [
        {
          "name": "stdout",
          "output_type": "stream",
          "text": [
            "Trước khi tạo thư mục: ['03_exercise_01.html', '03_exercise_01.ipynb', '04_exercise_02.html', '04_exercise_02.ipynb', 'data', 'mymodule.py', 'Slide_PTDL - 03 - Hien thi va phan tich du lieu voi Python_Code.ipynb', 'Slide_PTDL_02_Python_Programming_Code.ipynb', 'Slide_Python Numpy Matplotlib Pandas_Code.ipynb', '__pycache__']\n",
            "Sau khi tạo thư mục: ['03_exercise_01.html', '03_exercise_01.ipynb', '04_exercise_02.html', '04_exercise_02.ipynb', 'data', 'myfolder1', 'mymodule.py', 'Slide_PTDL - 03 - Hien thi va phan tich du lieu voi Python_Code.ipynb', 'Slide_PTDL_02_Python_Programming_Code.ipynb', 'Slide_Python Numpy Matplotlib Pandas_Code.ipynb', '__pycache__']\n",
            "Sau khi xóa thư mục: ['03_exercise_01.html', '03_exercise_01.ipynb', '04_exercise_02.html', '04_exercise_02.ipynb', 'data', 'mymodule.py', 'Slide_PTDL - 03 - Hien thi va phan tich du lieu voi Python_Code.ipynb', 'Slide_PTDL_02_Python_Programming_Code.ipynb', 'Slide_Python Numpy Matplotlib Pandas_Code.ipynb', '__pycache__']\n"
          ]
        }
      ],
      "source": [
        "import os\n",
        "\n",
        "print(\"Trước khi tạo thư mục:\", os.listdir())\n",
        "\n",
        "os.mkdir(\"myfolder1\")\n",
        "print(\"Sau khi tạo thư mục:\", os.listdir())\n",
        "\n",
        "os.rmdir(\"myfolder1\")\n",
        "print(\"Sau khi xóa thư mục:\", os.listdir())"
      ]
    },
    {
      "cell_type": "markdown",
      "metadata": {
        "id": "nhJO3iqDd5u6"
      },
      "source": [
        "## 8. Xử lý ngoại lệ (Exception Handling)"
      ]
    },
    {
      "cell_type": "markdown",
      "metadata": {
        "id": "1hd-cVPjd5u6"
      },
      "source": [
        "### try-except (Trang 119)"
      ]
    },
    {
      "cell_type": "code",
      "execution_count": 50,
      "metadata": {
        "colab": {
          "base_uri": "https://localhost:8080/"
        },
        "id": "XIn4F_TBd5u6",
        "outputId": "b2acdfee-ac5c-456c-cb70-9f53b5e76b8e"
      },
      "outputs": [
        {
          "name": "stdout",
          "output_type": "stream",
          "text": [
            "Exception Error\n"
          ]
        }
      ],
      "source": [
        "try:\n",
        "    print(non_existent_variable) # Biến này không tồn tại, sẽ gây lỗi\n",
        "except:\n",
        "    print(\"Exception Error\")"
      ]
    },
    {
      "cell_type": "markdown",
      "metadata": {
        "id": "VwYs_vmsd5u6"
      },
      "source": [
        "### try-except-finally (Trang 120)"
      ]
    },
    {
      "cell_type": "code",
      "execution_count": 51,
      "metadata": {
        "colab": {
          "base_uri": "https://localhost:8080/"
        },
        "id": "JgVnCBRWd5u6",
        "outputId": "b0bb120e-743b-42d5-fa0b-172bf13ca05f"
      },
      "outputs": [
        {
          "name": "stdout",
          "output_type": "stream",
          "text": [
            "Hello\n",
            "Finally process\n"
          ]
        }
      ],
      "source": [
        "try:\n",
        "    print(\"Hello\")\n",
        "except:\n",
        "    print(\"Exception Error\")\n",
        "finally:\n",
        "    print(\"Finally process\") # Khối finally luôn được thực thi"
      ]
    },
    {
      "cell_type": "markdown",
      "metadata": {
        "id": "X4B_vlsed5u6"
      },
      "source": [
        "### try-except-else (Trang 121)"
      ]
    },
    {
      "cell_type": "code",
      "execution_count": 52,
      "metadata": {
        "colab": {
          "base_uri": "https://localhost:8080/"
        },
        "id": "abNtdDbtd5u6",
        "outputId": "3b7fd95b-5be1-4035-d2a5-4d2f3bb4e63d"
      },
      "outputs": [
        {
          "name": "stdout",
          "output_type": "stream",
          "text": [
            "Hello\n",
            "No exception\n"
          ]
        }
      ],
      "source": [
        "try:\n",
        "    print(\"Hello\")\n",
        "except:\n",
        "    print(\"Exception Error\")\n",
        "else:\n",
        "    print(\"No exception\") # Khối else chỉ thực thi khi không có lỗi"
      ]
    },
    {
      "cell_type": "markdown",
      "metadata": {
        "id": "gMicp0i0d5u7"
      },
      "source": [
        "### try-except-else-finally (Trang 122)"
      ]
    },
    {
      "cell_type": "code",
      "execution_count": 53,
      "metadata": {
        "colab": {
          "base_uri": "https://localhost:8080/"
        },
        "id": "yaPTBo1Kd5u7",
        "outputId": "e4d254a1-ae44-4009-c6ce-51c1cc30b211"
      },
      "outputs": [
        {
          "name": "stdout",
          "output_type": "stream",
          "text": [
            "Hello\n",
            "No exception\n",
            "Finally process\n"
          ]
        }
      ],
      "source": [
        "try:\n",
        "    print(\"Hello\")\n",
        "except:\n",
        "    print(\"Exception Error\")\n",
        "else:\n",
        "    print(\"No exception\")\n",
        "finally:\n",
        "    print(\"Finally process\")"
      ]
    },
    {
      "cell_type": "markdown",
      "metadata": {
        "id": "McfM6BKQd5u7"
      },
      "source": [
        "### Ví dụ xử lý ngoại lệ với input và file (Trang 123-126)\n",
        "\n",
        "Lưu ý: hàm `input()` sẽ cần bạn nhập dữ liệu khi chạy cell này."
      ]
    },
    {
      "cell_type": "code",
      "execution_count": 54,
      "metadata": {
        "colab": {
          "base_uri": "https://localhost:8080/"
        },
        "id": "aFWSy3Msd5u7",
        "outputId": "60eb520f-960e-4422-8740-63a4ac647161"
      },
      "outputs": [
        {
          "name": "stdout",
          "output_type": "stream",
          "text": [
            "Enter the price of the stock (e.g. 10): 10\n",
            "Enter the number of shares (e.g. 2): d\n",
            "Exception error: invalid literal for int() with base 10: 'd'\n",
            "Thank you.\n"
          ]
        }
      ],
      "source": [
        "try:\n",
        "    price = float(input(\"Enter the price of the stock (e.g. 10): \"))\n",
        "    shares = int(input(\"Enter the number of shares (e.g. 2): \"))\n",
        "    total = price * shares\n",
        "except Exception as e:\n",
        "    print(\"Exception error:\", str(e))\n",
        "else:\n",
        "    print(\"The total value of the shares is:\", total)\n",
        "finally:\n",
        "    print(\"Thank you.\")"
      ]
    },
    {
      "cell_type": "code",
      "execution_count": 1,
      "metadata": {
        "colab": {
          "base_uri": "https://localhost:8080/"
        },
        "id": "wxPA09-ad5u7",
        "outputId": "5b8d46f1-a73b-4e5b-ae71-d35bfba6a95f"
      },
      "outputs": [
        {
          "name": "stdout",
          "output_type": "stream",
          "text": [
            "file saved\n",
            "Finally process\n"
          ]
        }
      ],
      "source": [
        "# Ví dụ xử lý lỗi khi thao tác file\n",
        "try:\n",
        "    file = open(\"data/a_new_file.txt\", 'w') # Mở file ở chế độ 'w' (ghi)\n",
        "    file.write(\"Python write file\")\n",
        "    print(\"file saved\")\n",
        "except Exception as e:\n",
        "    print(\"Exception file Error:\", str(e))\n",
        "finally:\n",
        "    # Đảm bảo file luôn được đóng dù có lỗi hay không\n",
        "    if 'file' in locals() and not file.closed:\n",
        "        file.close()\n",
        "    print(\"Finally process\")"
      ]
    }
  ],
  "metadata": {
    "colab": {
      "provenance": []
    },
    "kernelspec": {
      "display_name": "Python 3",
      "language": "python",
      "name": "python3"
    },
    "language_info": {
      "codemirror_mode": {
        "name": "ipython",
        "version": 3
      },
      "file_extension": ".py",
      "mimetype": "text/x-python",
      "name": "python",
      "nbconvert_exporter": "python",
      "pygments_lexer": "ipython3",
      "version": "3.12.10"
    }
  },
  "nbformat": 4,
  "nbformat_minor": 0
}
